{
 "cells": [
  {
   "cell_type": "code",
   "execution_count": 2,
   "id": "e14cef47",
   "metadata": {},
   "outputs": [
    {
     "name": "stdout",
     "output_type": "stream",
     "text": [
      "Enter all of your monthly income: 50070\n",
      "Enter all of your monthly expenses: 15764\n",
      "Your total income is 50070\n",
      "Your total expense is 15764\n",
      "Set your budget: 20000\n",
      "You have a sulplus of 4236\n"
     ]
    }
   ],
   "source": [
    "#this is a piece of code written to calculate user budget\n",
    "def revenue(income):\n",
    "    '''this function takes the argument 'month_income' into it's parameter 'income'. It returnes the sum of all inputted income'''\n",
    "    return sum(income)\n",
    "\n",
    "def expenditure(expense):\n",
    "    '''this function takes the argument 'month_expense' into it's parameter 'expense'. It returnes the sum of all inputted expenses'''\n",
    "    return sum(expense)\n",
    "\n",
    "def budget(goal, spends):\n",
    "    '''this function takes the arguments 'month_budget, expenses' into it's parameters 'goal, spends'. It returnes the difference b/w the budget goal and the total expenses'''\n",
    "    balance = goal - spends\n",
    "    return balance\n",
    "\n",
    "    \n",
    "#using list comprehension to add up the income\n",
    "month_income = [int(i) for i in input(\"Enter all of your monthly income: \").split()]\n",
    "month_expense = [int(i) for i in input(\"Enter all of your monthly expenses: \").split()]\n",
    "\n",
    "'''Function assignment. For 'revenue' and 'expenditure' '''\n",
    "income = revenue(month_income)\n",
    "expenses = expenditure(month_expense)\n",
    "\n",
    "print(\"Your total income is {}\".format(income))\n",
    "print(\"Your total expense is {}\".format(expenses))\n",
    "\n",
    "#input statement. Takes in user desired budget\n",
    "month_budget = int(input(\"Set your budget: \"))\n",
    "\n",
    "'''This piece of code flags the user if they set a budget above their total income.'''\n",
    "while month_budget > income:\n",
    "    month_budget = int(input(\"You do not have sufficient money to set this budget. Enter a valid budget amount: \"))\n",
    "    if month_budget <= income:\n",
    "        break\n",
    "#assigning the function 'budget' to the variable 'balance'. Budget takes 2 arguments        \n",
    "balance = budget(month_budget, expenses)\n",
    "if balance != 0: \n",
    "    print(\"You have a sulplus of {}\".format(balance))\n",
    "elif balance < 0:\n",
    "    print(\"You have a deficit of {}\".format(balance))\n",
    "else:\n",
    "    print(\"You have a balanced budget\")\n",
    "        "
   ]
  },
  {
   "cell_type": "code",
   "execution_count": 35,
   "id": "60a565fe",
   "metadata": {},
   "outputs": [
    {
     "name": "stdout",
     "output_type": "stream",
     "text": [
      "Enter multiple values: 2 3 4\n",
      "Number of list is:  [2, 3, 4]\n",
      "9\n"
     ]
    }
   ],
   "source": [
    "#list comprehension\n",
    "x = [int(x) for x in input(\"Enter multiple values: \").split()]\n",
    "print(\"Number of list is: \", x)\n",
    "print(sum(x))\n"
   ]
  }
 ],
 "metadata": {
  "kernelspec": {
   "display_name": "Python 3 (ipykernel)",
   "language": "python",
   "name": "python3"
  },
  "language_info": {
   "codemirror_mode": {
    "name": "ipython",
    "version": 3
   },
   "file_extension": ".py",
   "mimetype": "text/x-python",
   "name": "python",
   "nbconvert_exporter": "python",
   "pygments_lexer": "ipython3",
   "version": "3.9.13"
  }
 },
 "nbformat": 4,
 "nbformat_minor": 5
}
